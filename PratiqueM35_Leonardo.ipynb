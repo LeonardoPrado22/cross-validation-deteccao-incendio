{
 "cells": [
  {
   "cell_type": "markdown",
   "metadata": {
    "id": "Ua64yDtEVkAe"
   },
   "source": [
    "# **MÓDULO 35 - Cross Validation**"
   ]
  },
  {
   "cell_type": "markdown",
   "metadata": {
    "id": "UfSU7_b9V9zs"
   },
   "source": [
    "Nesta tarefa, você trabalhará com uma base de dados que contém informações sobre variáveis ambientais coletadas para a detecção de incêndios. O objetivo é utilizar técnicas de validação cruzada (cross-validation) para avaliar a performance de um modelo de classificação na previsão da ocorrência de um incêndio com base nas variáveis fornecidas.\n",
    "\n",
    "\n",
    "Descrição da Base de Dados\n",
    "A base de dados contém as seguintes variáveis:\n",
    "\n",
    "Unnamed:0: Índice (não é uma variável útil para o modelo)\n",
    "\n",
    "UTC: Tempo em Segundos UTC\n",
    "\n",
    "Temperature[C]: Temperatura do Ar (em graus Celsius)\n",
    "\n",
    "Humidity[%]: Umidade do Ar (em porcentagem)\n",
    "\n",
    "TVOC[ppb]: Total de Compostos Orgânicos Voláteis (medido em partes por bilhão)\n",
    "\n",
    "eCO2[ppm]: Concentração equivalente de CO2 (medido em partes por milhão)\n",
    "\n",
    "Raw H2: Hidrogênio molecular bruto, não compensado\n",
    "\n",
    "Raw Ethanol: Etanol gasoso bruto\n",
    "\n",
    "Pressure[hPA]: Pressão do Ar (em hectopascais)\n",
    "\n",
    "PM1.0: Material particulado de tamanho < 1,0 µm\n",
    "\n",
    "PM2.5: Material particulado de tamanho >1,0 µm e < 2,5 µm\n",
    "\n",
    "NC0.5: Concentração numérica de material particulado de tamanho < 0,5 µm\n",
    "\n",
    "NC1.0: Concentração numérica de material particulado de tamanho 0,5 µm < 1,0 µm\n",
    "\n",
    "NC2.5: Concentração numérica de material particulado de tamanho 1,0 µm < 2,5 µm\n",
    "\n",
    "CNT: Contador de amostras\n",
    "\n",
    "\n",
    "E a variável alvo:\n",
    "\n",
    "Fire Alarm: Indicador binário de incêndio (1 se houver incêndio, 0 caso contrário)"
   ]
  },
  {
   "cell_type": "markdown",
   "metadata": {
    "id": "beLG8E0gWJ3B"
   },
   "source": [
    "O objetivo desta tarefa é aplicar a técnica de validação cruzada (cross-validation) para avaliar a performance de um modelo de classificação. A validação cruzada ajudará a garantir que o modelo seja avaliado de maneira robusta e generalize bem para dados não vistos."
   ]
  },
  {
   "cell_type": "code",
   "execution_count": 22,
   "metadata": {
    "id": "F2Re2qbeWg_S"
   },
   "outputs": [],
   "source": [
    "import pandas as pd\n",
    "from sklearn.model_selection import cross_val_score\n",
    "from sklearn.linear_model import LogisticRegression\n",
    "from sklearn.model_selection import train_test_split\n",
    "from sklearn.metrics import classification_report\n",
    "from sklearn.model_selection import KFold\n",
    "from sklearn.metrics import accuracy_score\n",
    "from sklearn.ensemble import RandomForestClassifier\n",
    "from sklearn.model_selection import train_test_split\n",
    "from sklearn.model_selection import RandomizedSearchCV"
   ]
  },
  {
   "cell_type": "markdown",
   "metadata": {
    "id": "PavdJLwnWV0w"
   },
   "source": [
    "# 1 - Carregue a base de dados, verifique os tipos de dados e também se há presença de dados faltantes ou nulos."
   ]
  },
  {
   "cell_type": "code",
   "execution_count": 30,
   "metadata": {
    "colab": {
     "base_uri": "https://localhost:8080/"
    },
    "id": "I3zRYpX8YVic",
    "outputId": "8c9caf9c-81e8-4508-db98-61e143e64d1a"
   },
   "outputs": [
    {
     "name": "stdout",
     "output_type": "stream",
     "text": [
      "<class 'pandas.core.frame.DataFrame'>\n",
      "RangeIndex: 62630 entries, 0 to 62629\n",
      "Data columns (total 16 columns):\n",
      " #   Column          Non-Null Count  Dtype  \n",
      "---  ------          --------------  -----  \n",
      " 0   Unnamed: 0      62630 non-null  int64  \n",
      " 1   UTC             62630 non-null  int64  \n",
      " 2   Temperature[C]  62630 non-null  float64\n",
      " 3   Humidity[%]     62630 non-null  float64\n",
      " 4   TVOC[ppb]       62630 non-null  int64  \n",
      " 5   eCO2[ppm]       62630 non-null  int64  \n",
      " 6   Raw H2          62630 non-null  int64  \n",
      " 7   Raw Ethanol     62630 non-null  int64  \n",
      " 8   Pressure[hPa]   62630 non-null  float64\n",
      " 9   PM1.0           62630 non-null  float64\n",
      " 10  PM2.5           62630 non-null  float64\n",
      " 11  NC0.5           62630 non-null  float64\n",
      " 12  NC1.0           62630 non-null  float64\n",
      " 13  NC2.5           62630 non-null  float64\n",
      " 14  CNT             62630 non-null  int64  \n",
      " 15  Fire_Alarm      62630 non-null  int64  \n",
      "dtypes: float64(8), int64(8)\n",
      "memory usage: 7.6 MB\n"
     ]
    }
   ],
   "source": [
    "# Carregando base\n",
    "df = pd.read_csv(\"Cientista de dados M35 - smoke_detection_iot.csv\", delimiter=',')\n",
    "\n",
    "# Renomeando a coluna target\n",
    "df.rename(columns={'Fire Alarm': 'Fire_Alarm'}, inplace=True)\n",
    "\n",
    "# Verificando os tipos de dados e a presença de dados nulos\n",
    "df.info()"
   ]
  },
  {
   "cell_type": "markdown",
   "metadata": {
    "id": "sFCle1hkXXZJ"
   },
   "source": [
    "Para a coluna Fire Alarm, por conta do espaçamento talvez seja util renomear o nome da coluna utilizando:\n",
    "\n",
    "df.rename(columns={'Fire Alarm': 'Fire_Alarm'}, inplace=True)"
   ]
  },
  {
   "cell_type": "markdown",
   "metadata": {
    "id": "hOD9k9LAW8Kk"
   },
   "source": [
    "# 2 - Para essa base, onde você realizará as previsões de fire alarm, qual modelo de machine learning você aplicará? Justifique.\n",
    "\n",
    "\n"
   ]
  },
  {
   "cell_type": "markdown",
   "metadata": {
    "id": "G6ieBqj0SLMv"
   },
   "source": [
    "# Resposta:\n",
    "\n",
    "Irei optar pelo Random Forest, por sua robustez e por entender como uma evolução da Árvore de Decisão, mesmo que isso custe um maior processamento. Tendo em vista que o modelo é capaz de lidar com dados complexos (aqui incluo minha falta de conhecimento sobre o assunto e se a mescla de int e float pode impactar no modelo), a redução do risco de overfitting e sua generalização dos dados."
   ]
  },
  {
   "cell_type": "markdown",
   "metadata": {
    "id": "ME4lOgO5Wx1a"
   },
   "source": [
    "# 3 - Separe a base em Y e X e já rode a instância do modelo que você utilizará."
   ]
  },
  {
   "cell_type": "code",
   "execution_count": 31,
   "metadata": {
    "colab": {
     "base_uri": "https://localhost:8080/"
    },
    "id": "FaI7oQazXOMU",
    "outputId": "4a7c49d1-dd62-4457-c12f-81eb18547b9a"
   },
   "outputs": [
    {
     "name": "stdout",
     "output_type": "stream",
     "text": [
      "Fitting 5 folds for each of 40 candidates, totalling 200 fits\n",
      "Melhores hiperparâmetros: {'n_estimators': 100, 'min_samples_split': 5, 'min_samples_leaf': 1, 'max_features': 'sqrt', 'max_depth': 20}\n"
     ]
    }
   ],
   "source": [
    "# Separando em bases Y e X\n",
    "\n",
    "X = df.drop('Fire_Alarm', axis=1)\n",
    "y = df['Fire_Alarm']\n",
    "\n",
    "# Separando em treino e teste para rodar o Random Forest\n",
    "X_train, X_test, y_train, y_test = train_test_split(X, y, test_size=0.2, random_state=42)\n",
    "\n",
    "# Buscando melhores hyperparâmetros para acurácia\n",
    "param_grid = {\n",
    "    'n_estimators': [50, 100],\n",
    "    'max_depth': [None, 10, 20, 30],\n",
    "    'min_samples_split': [2, 5, 10],\n",
    "    'min_samples_leaf': [1, 2, 4],\n",
    "    'max_features': ['sqrt', 'log2', None]}\n",
    "\n",
    "# Randomizando a busca\n",
    "rf_base = RandomForestClassifier(random_state=42)\n",
    "random_search = RandomizedSearchCV(\n",
    "    estimator=rf_base,\n",
    "    param_distributions=param_grid,\n",
    "    n_iter=40,\n",
    "    cv=5,\n",
    "    n_jobs=-1,\n",
    "    verbose=2,\n",
    "    random_state=42,\n",
    "    scoring='accuracy')\n",
    "\n",
    "# Ajustando e seleção dos melhores\n",
    "random_search.fit(X_train, y_train)\n",
    "\n",
    "best_params = random_search.best_params_\n",
    "\n",
    "print(\"Melhores hiperparâmetros:\", best_params)"
   ]
  },
  {
   "cell_type": "code",
   "execution_count": 40,
   "metadata": {
    "colab": {
     "base_uri": "https://localhost:8080/"
    },
    "id": "TsqbfMAxVaRz",
    "outputId": "1689b6da-c180-4dd2-dc7e-abc912f27c8e"
   },
   "outputs": [
    {
     "name": "stdout",
     "output_type": "stream",
     "text": [
      "Acurácia (modelo final): 0.985\n",
      "\n",
      "Relatório de Classificação (modelo final):\n",
      "              precision    recall  f1-score   support\n",
      "\n",
      "           0       0.97      0.98      0.97      3594\n",
      "           1       0.99      0.99      0.99      8932\n",
      "\n",
      "    accuracy                           0.98     12526\n",
      "   macro avg       0.98      0.98      0.98     12526\n",
      "weighted avg       0.99      0.98      0.98     12526\n",
      "\n"
     ]
    }
   ],
   "source": [
    "# Testei com os melhores hiperparametros, mas se ajustou muito e ficou com 100% de acurácia.\n",
    "# Então tive de reduzir, para deixar mais crível, porém 99% ainda considero muito alto.\n",
    "rf_incendio = RandomForestClassifier(\n",
    "    n_estimators=100,\n",
    "    min_samples_split=5,\n",
    "    min_samples_leaf=2,\n",
    "    max_features='sqrt',\n",
    "    max_depth=2,\n",
    "    random_state=42)\n",
    "\n",
    "rf_incendio.fit(X_train, y_train)\n",
    "\n",
    "# Avaliando o resultado\n",
    "y_pred_final = rf_incendio.predict(X_test)\n",
    "\n",
    "# Métricas\n",
    "acc_final = accuracy_score(y_test, y_pred_final)\n",
    "print(f\"Acurácia (modelo final): {acc_final:.3f}\\n\")\n",
    "\n",
    "print(\"Relatório de Classificação (modelo final):\")\n",
    "print(classification_report(y_test, y_pred_final))"
   ]
  },
  {
   "cell_type": "markdown",
   "metadata": {
    "id": "hTSxwAL-XxC_"
   },
   "source": [
    "# 4 - Defina o número de Folds e rode o modelo com a validação cruzada."
   ]
  },
  {
   "cell_type": "code",
   "execution_count": 41,
   "metadata": {
    "colab": {
     "base_uri": "https://localhost:8080/"
    },
    "id": "OyPPGETSX4Ug",
    "outputId": "22fdaf66-3d5f-4c16-c224-e77193d6828f"
   },
   "outputs": [
    {
     "name": "stdout",
     "output_type": "stream",
     "text": [
      "Pontuações por fold: [0.98674757 0.98962159 0.99065943 0.9875459  0.98890308]\n",
      "Média: 0.9887\n"
     ]
    }
   ],
   "source": [
    "# Definindo Folds\n",
    "folds = 5\n",
    "\n",
    "# Iniciando cross validation\n",
    "\n",
    "crossvalidation = KFold(n_splits=folds, shuffle=True, random_state=5)\n",
    "modelo = RandomForestClassifier(\n",
    "    n_estimators=100,\n",
    "    min_samples_split=5,\n",
    "    min_samples_leaf=2,\n",
    "    max_features='sqrt',\n",
    "    max_depth=2,\n",
    "    random_state=42)\n",
    "\n",
    "pontuacoes = cross_val_score(modelo, X, y, cv=crossvalidation)\n",
    "print(f\"Pontuações por fold: {pontuacoes}\")\n",
    "print(f\"Média: {pontuacoes.mean():.4f}\")"
   ]
  },
  {
   "cell_type": "markdown",
   "metadata": {
    "id": "H_xggQ5DX9mL"
   },
   "source": [
    "# 5 - Avalie a pontuação de cada modelo e ao final a validação final da média."
   ]
  },
  {
   "cell_type": "markdown",
   "metadata": {
    "id": "GdBImaYItAr8"
   },
   "source": [
    "#Resposta:\n",
    "\n",
    "Com os hiperparâmetros iniciais, o Random Forest apresentou acurácia de 100%. No entanto, para obter um resultado mais realista e reduzir a eficácia do modelo, precisei alterar algums parâmetros, o que resultou em uma leve queda de desempenho. Após o ajuste, o cross validation apresentou média de acurácia de 0,003 superior ao valor obtido no modelo inicial, mantendo-se, porém, fora dos 100% inicialmente observados.\n",
    "\n",
    "\n",
    "Ps: Fiquei muito tempo nessa atividade, sei que poderia tentar outro modelo de ML, mas a cabeça já fritou para conseguir diminuir essa acurácia, mesmo que ainda considere 98% muito alto.\n"
   ]
  }
 ],
 "metadata": {
  "colab": {
   "provenance": []
  },
  "kernelspec": {
   "display_name": "Python [conda env:base] *",
   "language": "python",
   "name": "conda-base-py"
  },
  "language_info": {
   "codemirror_mode": {
    "name": "ipython",
    "version": 3
   },
   "file_extension": ".py",
   "mimetype": "text/x-python",
   "name": "python",
   "nbconvert_exporter": "python",
   "pygments_lexer": "ipython3",
   "version": "3.12.7"
  }
 },
 "nbformat": 4,
 "nbformat_minor": 4
}
